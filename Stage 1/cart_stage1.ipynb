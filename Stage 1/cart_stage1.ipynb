{
 "metadata": {
  "language_info": {
   "codemirror_mode": {
    "name": "ipython",
    "version": 3
   },
   "file_extension": ".py",
   "mimetype": "text/x-python",
   "name": "python",
   "nbconvert_exporter": "python",
   "pygments_lexer": "ipython3",
   "version": "3.7.7-final"
  },
  "orig_nbformat": 2,
  "kernelspec": {
   "name": "python3",
   "display_name": "Python 3"
  }
 },
 "nbformat": 4,
 "nbformat_minor": 2,
 "cells": [
  {
   "source": [
    "## Imports"
   ],
   "cell_type": "markdown",
   "metadata": {}
  },
  {
   "cell_type": "code",
   "execution_count": 1,
   "metadata": {},
   "outputs": [],
   "source": [
    "import numpy as np\n",
    "import cv2 as cv #opencv-python\n",
    "import os"
   ]
  },
  {
   "source": [
    "# Working with map\n",
    "*Owner*: TBD"
   ],
   "cell_type": "markdown",
   "metadata": {}
  },
  {
   "source": [
    "## Load/save/gen"
   ],
   "cell_type": "markdown",
   "metadata": {}
  },
  {
   "cell_type": "code",
   "execution_count": 2,
   "metadata": {},
   "outputs": [],
   "source": [
    "def load_plan(file:str) -> np.array:\n",
    "    \"\"\"\n",
    "    Read plan *file* in 'jpg' format and returns plan array.\n",
    "    \"\"\"\n",
    "    assert os.path.isfile(file), f\"No file '{file}' exist to read. Please check file name and path.\"\n",
    "    return cv.imread(file)\n",
    "\n",
    "\n",
    "def save_plan(plan:np.array, file:str):\n",
    "    \"\"\"\n",
    "    Saves plan to file.\n",
    "    \"\"\"\n",
    "    assert False, \"Function is not implemented\"\n",
    "\n",
    "\n",
    "def generate_plan(size:(int, int), **kwargs) -> np.array:\n",
    "    \"\"\"\n",
    "    Generates plan of required size. May use some arguments (e.g. number of rooms).\n",
    "    Returns plan.\n",
    "    \"\"\"\n",
    "    assert False, \"Function is not implemented\"\n",
    "    return plan"
   ]
  },
  {
   "source": [
    "## Display"
   ],
   "cell_type": "markdown",
   "metadata": {}
  },
  {
   "cell_type": "code",
   "execution_count": 3,
   "metadata": {},
   "outputs": [],
   "source": [
    "def show_plan(plan:np.array, window_name = \"Plan\") -> int:\n",
    "    \"\"\"\n",
    "    Shows plan in window until any button is hit.\n",
    "    Returns key code which was pressed when window closed. \n",
    "    \"\"\"\n",
    "    cv.imshow(window_name, plan)\n",
    "    key_pressed = cv.waitKey(0)\n",
    "    cv.destroyWindow(window_name)\n",
    "    return key_pressed\n",
    "\n",
    "\n",
    "def show_layers(base:np.array, *layers, **kwargs):\n",
    "    \"\"\"\n",
    "    Takes *layers* (list of np.arrays) and shows them together until any button is hit.\n",
    "    Takes *layers* and shows them together until any button is hit.\n",
    "    *layers* is list of tuples (img, placement_coordinates, anchor):\n",
    "        img is np.array with shape (x, y, 3)\n",
    "        placement_coordiantes is where img should be inserted on top of base\n",
    "        anchor is optional, by default top left corner of img is placed at placement_coordinates, \n",
    "            so default value of anchor is [0, 0], provide different if some offset is needed\n",
    "            typical use is center point of img\n",
    "\n",
    "    Returns key code which was pressed when window closed. \n",
    "    \"\"\"\n",
    "\n",
    "    def overlay_pic(pic, placement_coordinates, pic_anchor=[0,0]):\n",
    "        pic_anchor = np.array(pic_anchor)\n",
    "        placement_coordinates = np.array(placement_coordinates)\n",
    "        top_left = placement_coordinates - pic_anchor\n",
    "        bottom_right = top_left + np.array(pic.shape[:2])\n",
    "        blend[top_left[0]:bottom_right[0], top_left[1]:bottom_right[1]] = pic\n",
    "\n",
    "    blend = base.copy()\n",
    "    for layer in layers:\n",
    "        if len(layer) == 3:\n",
    "            img, placement_coordiantes, anchor = layer\n",
    "        else:\n",
    "            img, placement_coordiantes = layer\n",
    "            anchor = [0, 0]\n",
    "        \n",
    "        overlay_pic(img, placement_coordiantes, anchor)\n",
    "\n",
    "    if 'window_name' in kwargs:\n",
    "        key_pressed = show_plan(blend, kwargs['window_name'])\n",
    "    else:\n",
    "        key_pressed = show_plan(blend)\n",
    "    \n",
    "    return key_pressed\n"
   ]
  },
  {
   "source": [
    "# Main classes\n",
    "## Drone\n",
    "*Owner*: TBD"
   ],
   "cell_type": "markdown",
   "metadata": {}
  },
  {
   "cell_type": "code",
   "execution_count": 4,
   "metadata": {},
   "outputs": [],
   "source": [
    "class Drone():\n",
    "    def __init__(self):\n",
    "        assert False, \"Class is not implemented\"\n",
    "\n",
    "    def move(self, speed=1):\n",
    "        \"\"\"\n",
    "        Drives drone forward for number at specified speed. \n",
    "        \"\"\"\n",
    "        assert False, \"Function is not implemented\"\n",
    "\n",
    "    def stop(self):\n",
    "        \"\"\"\n",
    "        Stops drone.\n",
    "        \"\"\"\n",
    "    \n",
    "    def turn(self, degree):\n",
    "        \"\"\"\n",
    "        Turns drone to certain angle.\n",
    "        \"\"\"\n",
    "        assert False, \"Function is not implemented\"\n"
   ]
  },
  {
   "source": [
    "## Sensor \n",
    "*Owner*: TBD"
   ],
   "cell_type": "markdown",
   "metadata": {}
  },
  {
   "cell_type": "code",
   "execution_count": 5,
   "metadata": {},
   "outputs": [],
   "source": [
    "class Sensor():\n",
    "    def __init__(self):\n",
    "        assert False, \"Class is not implemented\"\n",
    "        \n",
    "    def get_distance(self) -> float:\n",
    "        \"\"\"\n",
    "        Checks distance to next obstacle if there is one.\n",
    "        Returns distance if sensor can see obstacle, or np.inf if there is no obstacle. \n",
    "        \"\"\"\n",
    "        assert False, \"Function is not implemented\"\n",
    "        return distance"
   ]
  },
  {
   "source": [
    "## Driver\n",
    "*Owner*: TBD"
   ],
   "cell_type": "markdown",
   "metadata": {}
  },
  {
   "cell_type": "code",
   "execution_count": 6,
   "metadata": {},
   "outputs": [],
   "source": [
    "class Driver():\n",
    "    \"\"\"\n",
    "    Base driver class for all others, excludes any sofisticated logic. \n",
    "    \"\"\"\n",
    "    def __init__(self, cart:Cart, sensors:[Sensor]):\n",
    "        assert False, \"Class is not implemented\"\n",
    "\n",
    "    def drive_to_wall(self):\n",
    "        \"\"\"\n",
    "        Drives cart until hits wall in front of it. \n",
    "        \"\"\"\n",
    "        assert False, \"Function is not implemented\"\n"
   ]
  },
  {
   "source": [
    "# Tests\n",
    "*Owner*: TBD"
   ],
   "cell_type": "markdown",
   "metadata": {}
  },
  {
   "source": [
    "## Help functions"
   ],
   "cell_type": "markdown",
   "metadata": {}
  },
  {
   "cell_type": "code",
   "execution_count": 8,
   "metadata": {},
   "outputs": [],
   "source": [
    "def place_cart(plan) -> [int, int]: \n",
    "    \"\"\"\n",
    "    Randomly places agent on map/plan at valid point. \n",
    "    Returns coordinates. \n",
    "    \"\"\"\n",
    "    assert False, \"Function is not implemented\"\n",
    "    return coordinates"
   ]
  },
  {
   "source": [
    "## Tests"
   ],
   "cell_type": "markdown",
   "metadata": {}
  },
  {
   "cell_type": "code",
   "execution_count": null,
   "metadata": {},
   "outputs": [],
   "source": []
  },
  {
   "source": [
    "# Sandbox\n",
    "Use for whatever need you have."
   ],
   "cell_type": "markdown",
   "metadata": {}
  },
  {
   "cell_type": "code",
   "execution_count": null,
   "metadata": {},
   "outputs": [],
   "source": []
  }
 ]
}
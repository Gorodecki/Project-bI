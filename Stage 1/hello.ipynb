{
 "metadata": {
  "orig_nbformat": 2,
  "kernelspec": {
   "name": "Python 3.8.6 64-bit",
   "display_name": "Python 3.8.6 64-bit",
   "metadata": {
    "interpreter": {
     "hash": "cf9c846c39114b2acc8c04f6c6eec2040733fbe50e3a184b3931637bd286553c"
    }
   }
  }
 },
 "nbformat": 4,
 "nbformat_minor": 2,
 "cells": [
  {
   "source": [
    "# Greetings from the team\n",
    "Add your greeting to function with your name. "
   ],
   "cell_type": "markdown",
   "metadata": {}
  },
  {
   "source": [
    "## Defining greetings"
   ],
   "cell_type": "markdown",
   "metadata": {}
  },
  {
   "cell_type": "code",
   "execution_count": 1,
   "metadata": {},
   "outputs": [],
   "source": [
    "def Andrey():\n",
    "    \"\"\"\n",
    "    Prints cheerful greeting from you and returns True when implemented. \n",
    "    \"\"\"\n",
    "    print(\"Aloha!\")\n",
    "    return True\n",
    "\n",
    "\n",
    "def Vladimir():\n",
    "    \"\"\"\n",
    "    Prints cheerful greeting from you and returns True when implemented. \n",
    "    \"\"\"\n",
    "    print(\"Zdorovenki buli!\")\n",
    "    return True\n",
    "\n",
    "\n",
    "def Anna():\n",
    "    \"\"\"\n",
    "    Prints cheerful greeting from you and returns True when implemented. \n",
    "    \"\"\"\n",
    "    pass\n",
    "    return False\n",
    "\n",
    "def Ruslan():\n",
    "    \"\"\"\n",
    "    Prints cheerful greeting from you and returns True when implemented. \n",
    "    \"\"\"\n",
    "    pass\n",
    "    return False\n",
    "\n",
    "def Askar():\n",
    "    \"\"\"\n",
    "    Prints cheerful greeting from you and returns True when implemented. \n",
    "    \"\"\"\n",
    "    pass\n",
    "    return False    \n",
    "\n",
    "def Alexander():\n",
    "    \"\"\"\n",
    "    Prints cheerful greeting from you and returns True when implemented. \n",
    "    \"\"\"\n",
    "    print(\"Hujambo Mzee!\")\n",
    "    return True    "
   ]
  },
  {
   "source": [
    "## Checking team"
   ],
   "cell_type": "markdown",
   "metadata": {}
  },
  {
   "cell_type": "code",
   "execution_count": 2,
   "metadata": {},
   "outputs": [
    {
     "output_type": "stream",
     "name": "stdout",
     "text": [
      "Aloha!\n  - Andrey said!\nAnna is not yet here :(\nRuslan is not yet here :(\nAskar is not yet here :(\nZdorovenki buli!\n  - Vladimir said!\nHujambo Mzee!\n  - Alexander said!\n"
     ]
    }
   ],
   "source": [
    "team = [Andrey, Anna, Ruslan, Askar, Vladimir, Alexander]\n",
    "\n",
    "for teammate in team:\n",
    "    if teammate():\n",
    "        print(f\"  - {teammate.__name__} said!\")\n",
    "    else:\n",
    "        print(f\"{teammate.__name__} is not yet here :(\")"
   ]
  },
  {
   "cell_type": "code",
   "execution_count": null,
   "metadata": {},
   "outputs": [],
   "source": []
  }
 ]
}
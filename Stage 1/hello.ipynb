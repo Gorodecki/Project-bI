{
 "metadata": {
  "orig_nbformat": 2,
  "kernelspec": {
   "name": "Python 3.7.9 64-bit ('base': conda)",
   "display_name": "Python 3.7.9 64-bit ('base': conda)",
   "metadata": {
    "interpreter": {
     "hash": "b3ba2566441a7c06988d0923437866b63cedc61552a5af99d1f4fb67d367b25f"
    }
   }
  }
 },
 "nbformat": 4,
 "nbformat_minor": 2,
 "cells": [
  {
   "source": [
    "# Greetings from the team\n",
    "Add your greeting to function with your name. "
   ],
   "cell_type": "markdown",
   "metadata": {}
  },
  {
   "source": [
    "## Defining greetings"
   ],
   "cell_type": "markdown",
   "metadata": {}
  },
  {
   "cell_type": "code",
   "execution_count": 1,
   "metadata": {},
   "outputs": [],
   "source": [
    "def Andrey():\n",
    "    \"\"\"\n",
    "    Prints cheerful greeting from you and returns True when implemented. \n",
    "    \"\"\"\n",
    "    print(\"Aloha!\")\n",
    "    return True\n",
    "\n",
    "\n",
    "def Vladimir():\n",
    "    \"\"\"\n",
    "    Prints cheerful greeting from you and returns True when implemented. \n",
    "    \"\"\"\n",
    "    print(\"Zdorovenki buli!\")\n",
    "    return True\n",
    "\n",
    "\n",
    "def Anton():\n",
    "    \"\"\"\n",
    "    Prints cheerful greeting from you and returns True when implemented. \n",
    "    \"\"\"\n",
    "    pass\n",
    "    return False\n",
    "\n",
    "\n",
    "def Sairan():\n",
    "    \"\"\"\n",
    "    Prints cheerful greeting from you and returns True when implemented. \n",
    "    \"\"\"\n",
    "    pass\n",
    "    return False\n",
    "\n",
    "\n",
    "def Alexander():\n",
    "    \"\"\"\n",
    "    Prints cheerful greeting from you and returns True when implemented. \n",
    "    \"\"\"\n",
    "    pass\n",
    "    return False "
   ]
  },
  {
   "source": [
    "## Checking team"
   ],
   "cell_type": "markdown",
   "metadata": {}
  },
  {
   "cell_type": "code",
   "execution_count": 2,
   "metadata": {},
   "outputs": [
    {
     "output_type": "stream",
     "name": "stdout",
     "text": [
      "Aloha!\n  - Andrey said!\nAnton is not yet here :(\nSairan is not yet here :(\nZdorovenki buli!\n  - Vladimir said!\nAlexander is not yet here :(\n"
     ]
    }
   ],
   "source": [
    "team = [Andrey, Anton, Sairan, Vladimir, Alexander]\n",
    "\n",
    "for teammate in team:\n",
    "    if teammate():\n",
    "        print(f\"  - {teammate.__name__} said!\")\n",
    "    else:\n",
    "        print(f\"{teammate.__name__} is not yet here :(\")"
   ]
  },
  {
   "cell_type": "code",
   "execution_count": null,
   "metadata": {},
   "outputs": [],
   "source": []
  }
 ]
}